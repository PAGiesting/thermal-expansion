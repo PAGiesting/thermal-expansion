{
 "metadata": {
  "language_info": {
   "codemirror_mode": {
    "name": "ipython",
    "version": 3
   },
   "file_extension": ".py",
   "mimetype": "text/x-python",
   "name": "python",
   "nbconvert_exporter": "python",
   "pygments_lexer": "ipython3",
   "version": "3.7.7-final"
  },
  "orig_nbformat": 2,
  "kernelspec": {
   "name": "python_defaultSpec_1596807144173",
   "display_name": "Python 3.7.7 64-bit ('base': conda)"
  }
 },
 "nbformat": 4,
 "nbformat_minor": 2,
 "cells": [
  {
   "cell_type": "code",
   "execution_count": 1,
   "metadata": {},
   "outputs": [],
   "source": [
    "import os\n",
    "import shutil\n",
    "import json\n",
    "import datetime"
   ]
  },
  {
   "cell_type": "code",
   "execution_count": 2,
   "metadata": {},
   "outputs": [
    {
     "output_type": "execute_result",
     "data": {
      "text/plain": "os.stat_result(st_mode=16895, st_ino=10133099161628877, st_dev=2181425145, st_nlink=1, st_uid=0, st_gid=0, st_size=24576, st_atime=1596230274, st_mtime=1596230274, st_ctime=1596120673)"
     },
     "metadata": {},
     "execution_count": 2
    }
   ],
   "source": [
    "os.stat('data')"
   ]
  },
  {
   "cell_type": "code",
   "execution_count": 3,
   "metadata": {
    "tags": []
   },
   "outputs": [
    {
     "output_type": "stream",
     "name": "stdout",
     "text": "data ['14.1mm-083019', '14.1mm-102218', '16.6mm-091419', '16.6mm-102819', '8.1mm'] ['cert_poly.pkl', 'feldspar-8.1mmstandard.zip', 'sapphire-certificate.xlsx']\ndata\\14.1mm-083019 [] ['albAmel100r1-11.1mm-081219.csv', 'albAmel100r1-11c.csv', 'albAmel100r1-11c.txt']\ndata\\14.1mm-102218 [] ['ExpDat_sapph14.1mm1022218.csv', 'ExpDat_sapph14c.txt', 'ExpDat_sapph14c_stan_poly.pkl']\ndata\\16.6mm-091419 [] ['byto000sA1r1-16mm-091519.csv', 'byto000sA1r1-16mm-091519c.csv', 'byto000sA1r1-16mm-091519c.txt']\ndata\\16.6mm-102819 [] ['byto000sA1r2-16mm-102619.csv', 'byto000sA1r2-16mm-102619.xlsx', 'byto000sA1r2-16mm-102619c.csv']\ndata\\8.1mm [] ['albAmel001r19.7mm.csv', 'albAmel001r19c.csv', 'albAmel001r19c.txt']\n"
    }
   ],
   "source": [
    "for root, dirs, files in os.walk('data'):\n",
    "    try:\n",
    "        print(root,dirs,files[0:3])\n",
    "    except:\n",
    "        print(root,dirs)"
   ]
  },
  {
   "cell_type": "code",
   "execution_count": 4,
   "metadata": {
    "tags": []
   },
   "outputs": [
    {
     "output_type": "stream",
     "name": "stdout",
     "text": "{'data\\\\14.1mm-083019': ['albAmel100r1-11c.txt', 'albAmel100s1r1-11x.txt', 'anorShaws1r1-13mm-090119c.txt', 'byto000sB1r1-14c.txt', 'byto000sCr1-14c.txt', 'fmt001sAr1-11c.txt', 'fmt001sAr1-11x.txt', 'moon000s1r1-15mm-091219c.txt', 'moon000s1r2-15mm-091519c.txt', 'moon000s2r1-13c.txt', 'moon000s2r2-13c.txt', 'moon0p2s2r2-15mm-102719c.txt'], 'data\\\\14.1mm-102218': [], 'data\\\\16.6mm-091419': ['byto000sA1r1-16mm-091519c.txt', 'sanMtT0p2s1r16mm-111418c.txt'], 'data\\\\16.6mm-102819': ['byto000sA1r2-16mm-102619c.txt', 'byto000sA1r2-16mm-102619x.txt'], 'data\\\\8.1mm': ['albAmel001r19c.txt', 'albAmel001r2-9c.txt', 'albAmel001s1r1-9x.txt', 'albAmel001s1r2-9x.txt', 'albAmel010sTr1-8c.txt', 'albAmel010sTr1-8x.txt', 'fmt010sCr1-8x.txt', 'fmt010sCr18c.txt', 'fmt100sBr1-10c.txt', 'fmt100sBr1-10x.txt', 'fmt100sBr2-10c.txt', 'fmt100sBr2-10mmx.txt', 'moon000s3r1-10c.txt', 'moon000s3r2-10c.txt', 'oligHawk001s1r1-7c.txt', 'oligHawk001s1r1-7x.txt', 'oligHawk001s1r2-7c.txt', 'oligHawk001s1r2-7x.txt', 'oligHawk001s1r5-7c.txt', 'oligHawk010s1r3-8c.txt', 'oligHawk010s1r3-8x.txt', 'oligHawk010s1r4-8c.txt', 'oligHawk010s1r4-8x.txt', 'oligTanz010s2r1-9c.txt', 'oligTanz100s1r1-8c.txt', 'oligTanz100s1r1-8x.txt', 'sanMtT0p1s1r17c.txt', 'sanMtT0p2s1r1-7x.txt', 'sanMtT0p3s1r1-4c.txt', 'sanMtT0p3s1r1-4x.txt']}\n"
    }
   ],
   "source": [
    "listing = {}\n",
    "for root, dirs, files in os.walk('data'):\n",
    "    if dirs != []:\n",
    "        continue\n",
    "    listing[root]=list(filter(lambda s: (s.endswith('c.txt') | s.endswith('x.txt'))\n",
    "        & ('sapph' not in s),files))\n",
    "print(listing)"
   ]
  },
  {
   "cell_type": "code",
   "execution_count": 9,
   "metadata": {},
   "outputs": [],
   "source": [
    "today = datetime.date.today()\n",
    "with open('data/'+str(today.toordinal())+'.dat','w') as datfile:\n",
    "    json.dump(listing,datfile)"
   ]
  },
  {
   "cell_type": "code",
   "execution_count": 10,
   "metadata": {},
   "outputs": [],
   "source": [
    "for subdir in listing.keys():\n",
    "    for filename in listing[subdir]:\n",
    "        if os.path.exists('data/'+filename):\n",
    "            continue\n",
    "        shutil.copy2(subdir+'/'+filename,'data/'+filename)"
   ]
  }
 ]
}